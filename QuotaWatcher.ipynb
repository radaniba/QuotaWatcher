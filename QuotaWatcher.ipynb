{
 "cells": [
  {
   "cell_type": "markdown",
   "metadata": {},
   "source": [
    "This is a documentation for QuotaWatcher utility, a small cron job developed to monitor disk usage on GSC servers\n",
    "In this notebook we will explain every part of the utility in order to have other people maintain the code easily\n",
    "\n",
    "**All the code is heavily pep8'd :) **\n",
    "\n",
    "![alert](http://i.giphy.com/GJXKS0ZZQUnv2.gif)"
   ]
  },
  {
   "cell_type": "markdown",
   "metadata": {},
   "source": [
    "# Importing needed Libraries "
   ]
  },
  {
   "cell_type": "code",
   "execution_count": 31,
   "metadata": {
    "collapsed": true
   },
   "outputs": [],
   "source": [
    "from __future__ import division\n",
    "\n",
    "__author__ = \"Rad <aradwen@gmail.com>\"\n",
    "__license__ = \"GNU General Public License version 3\"\n",
    "__date__ = \"06/30/2015\"\n",
    "__version__ = \"0.2\"\n",
    "\n",
    "try:\n",
    "    import os\n",
    "    from quota_logger import init_log\n",
    "    import subprocess\n",
    "    from prettytable import PrettyTable\n",
    "    from smtplib import SMTP\n",
    "    from smtplib import SMTPException\n",
    "    from email.mime.text import MIMEText\n",
    "    from argparse import ArgumentParser\n",
    "except ImportError:\n",
    "    # Checks the installation of the necessary python modules\n",
    "    import os\n",
    "    import sys\n",
    "\n",
    "    print((os.linesep * 2).join(\n",
    "        [\"An error found importing one module:\", str(sys.exc_info()[1]), \"You need to install it Stopping...\"]))\n",
    "    sys.exit(-2)"
   ]
  },
  {
   "cell_type": "markdown",
   "metadata": {},
   "source": [
    "I like this way of importing libraries, if some libraries are not already installed, the system will exit. There is another room for improvement here, if a library does not exist, it is possile to install it automatically if we run the code as admin or with enough permission"
   ]
  },
  {
   "cell_type": "markdown",
   "metadata": {},
   "source": [
    "# The Notifier Class"
   ]
  },
  {
   "cell_type": "code",
   "execution_count": 32,
   "metadata": {
    "collapsed": true
   },
   "outputs": [],
   "source": [
    "class Notifier(object):\n",
    "\n",
    "    suffixes = ['B', 'KB', 'MB', 'GB', 'TB', 'PB']\n",
    "\n",
    "    def __init__(self, **kwargs):\n",
    "\n",
    "        self.threshold = None\n",
    "        self.path = None\n",
    "        self.list = None\n",
    "        self.email_sender = None\n",
    "        self.email_password = None\n",
    "        self.gmail_smtp = None\n",
    "        self.gmail_smtp_port = None\n",
    "        self.text_subtype = None\n",
    "        self.cap_reached = False\n",
    "        self.email_subject = None\n",
    "\n",
    "        for (key, value) in kwargs.iteritems():\n",
    "            if hasattr(self, key):\n",
    "                setattr(self, key, value)\n",
    "\n",
    "        self._log = init_log()\n"
   ]
  },
  {
   "cell_type": "markdown",
   "metadata": {},
   "source": [
    "We init the class as an object containing some features, this object will have a *threshold* upon which there will be an email triggered to a *recipient list*. This obect is looking ath the size of each subdirectory in *path*. You need to create an email addresse and add some variables to your PATH ( will be discussed later)"
   ]
  },
  {
   "cell_type": "code",
   "execution_count": 33,
   "metadata": {
    "collapsed": true
   },
   "outputs": [],
   "source": [
    "    @property\n",
    "    def loggy(self):\n",
    "        return self._log\n"
   ]
  },
  {
   "cell_type": "markdown",
   "metadata": {},
   "source": [
    "We need to inherhit logging capabilities from the logging class we imported (see later the code of this class). This will allow us to log from within the class itself"
   ]
  },
  {
   "cell_type": "code",
   "execution_count": 34,
   "metadata": {
    "collapsed": true
   },
   "outputs": [],
   "source": [
    "    @staticmethod\n",
    "    def load_recipients_emails(emails_file):\n",
    "        recipients = [line.rstrip('\\n') for line in open(emails_file) if not line[0].isspace()]\n",
    "        return recipients\n"
   ]
  },
  {
   "cell_type": "markdown",
   "metadata": {},
   "source": [
    "We need to lad the emails from a file created by the user. Usually I create 2 files, `development_list` containing only email adresses I will use for testing and `production_list` containing adresses I want to notify in production"
   ]
  },
  {
   "cell_type": "code",
   "execution_count": 35,
   "metadata": {
    "collapsed": true
   },
   "outputs": [],
   "source": [
    "    @staticmethod\n",
    "    def load_message_content(message_template_file, table):\n",
    "        template_file = open(message_template_file, 'rb')\n",
    "        template_file_content = template_file.read().replace(\n",
    "            \"{{table}}\", table.get_string())\n",
    "        template_file.close()\n",
    "        return template_file_content\n"
   ]
  },
  {
   "cell_type": "markdown",
   "metadata": {},
   "source": [
    "Inspired by MVC apps, we load message body from a template, this template will contain a placeholder called `{{table}}` that will contain the table of subdirectories and their respective sizes"
   ]
  },
  {
   "cell_type": "code",
   "execution_count": 36,
   "metadata": {
    "collapsed": true
   },
   "outputs": [],
   "source": [
    "    def notify_user(self, email_receivers, table, template):\n",
    "        \"\"\"This method sends an email\n",
    "        :rtype : email sent to specified members\n",
    "        \"\"\"\n",
    "        # Create the message\n",
    "        input_file = os.path.join(\n",
    "            os.path.dirname(__file__), \"templates/\" + template + \".txt\")\n",
    "        content = self.load_message_content(input_file, table)\n",
    "\n",
    "        msg = MIMEText(content, self.text_subtype)\n",
    "\n",
    "        msg[\"Subject\"] = self.email_subject\n",
    "        msg[\"From\"] = self.email_sender\n",
    "        msg[\"To\"] = ','.join(email_receivers)\n",
    "\n",
    "        try:\n",
    "            smtpObj = SMTP(self.gmail_smtp, self.gmail_smtp_port)\n",
    "            # Identify yourself to GMAIL ESMTP server.\n",
    "            smtpObj.ehlo()\n",
    "            # Put SMTP connection in TLS mode and call ehlo again.\n",
    "            smtpObj.starttls()\n",
    "            smtpObj.ehlo()\n",
    "            # Login to service\n",
    "            smtpObj.login(user=self.email_sender, password=self.email_password)\n",
    "            # Send email\n",
    "            smtpObj.sendmail(self.email_sender, email_receivers, msg.as_string())\n",
    "            # close connection and session.\n",
    "            smtpObj.quit()\n",
    "        except SMTPException as error:\n",
    "            print \"Error: unable to send email :  {err}\".format(err=error)\n"
   ]
  },
  {
   "cell_type": "markdown",
   "metadata": {},
   "source": [
    "`notify_user` is the function that will send an email to the users upon request. It loads the message body template and injects the table in it."
   ]
  },
  {
   "cell_type": "code",
   "execution_count": 37,
   "metadata": {
    "collapsed": true
   },
   "outputs": [],
   "source": [
    "    @staticmethod\n",
    "    def du(path):\n",
    "        \"\"\"disk usage in kilobytes\"\"\"\n",
    "        # return subprocess.check_output(['du', '-s',\n",
    "        # path]).split()[0].decode('utf-8')\n",
    "        try:\n",
    "            p1 = subprocess.Popen(('ls', '-d', path), stdout=subprocess.PIPE)\n",
    "            p2 = subprocess.Popen((os.environ[\"GNU_PARALLEL\"], '--no-notice', 'du', '-s', '2>&1'), stdin=p1.stdout,\n",
    "                                  stdout=subprocess.PIPE)\n",
    "            p3 = subprocess.Popen(\n",
    "                ('grep', '-v', '\"Permission denied\"'), stdin=p2.stdout, stdout=subprocess.PIPE)\n",
    "            output = p3.communicate()[0]\n",
    "        except subprocess.CalledProcessError as e:\n",
    "            raise RuntimeError(\"command '{0}' return with error (code {1}): {2}\".format(\n",
    "                e.cmd, e.returncode, e.output))\n",
    "        # return ''.join([' '.join(hit.split('\\t')) for hit in output.split('\\n')\n",
    "        # if len(hit) > 0 and not \"Permission\" in hit and output[0].isdigit()])\n",
    "        result = [' '.join(hit.split('\\t')) for hit in output.split('\\n')]\n",
    "        for line in result:\n",
    "            if line and len(line.split('\\n')) > 0 and \"Permission\" not in line and line[0].isdigit():\n",
    "                return line.split(\" \")[0]\n"
   ]
  },
  {
   "cell_type": "markdown",
   "metadata": {},
   "source": [
    "This is a wrapper of the famous `du` command. I use GNU_PARALLEL in case we have a lot of subdirectories and in case we don't want to wait for sequential processing. Note that we could have done this in multithreading as well"
   ]
  },
  {
   "cell_type": "code",
   "execution_count": 38,
   "metadata": {
    "collapsed": true
   },
   "outputs": [],
   "source": [
    "    def du_h(self, nbytes):\n",
    "        if nbytes == 0:\n",
    "            return '0 B'\n",
    "        i = 0\n",
    "        while nbytes >= 1024 and i < len(self.suffixes) - 1:\n",
    "            nbytes /= 1024.\n",
    "            i += 1\n",
    "        f = ('%.2f'.format(nbytes)).rstrip('0').rstrip('.')\n",
    "        return '%s %s'.format(f, self.suffixes[i])\n"
   ]
  },
  {
   "cell_type": "markdown",
   "metadata": {},
   "source": [
    "I didn't want to use the `-h` flag because we may want to sum up subdirectories sizes or doing other postprocessing, we'd rather keep them in a unified format (unit). For a more human readable format, we can use `du_h()` method"
   ]
  },
  {
   "cell_type": "code",
   "execution_count": 39,
   "metadata": {
    "collapsed": true
   },
   "outputs": [],
   "source": [
    "    @staticmethod\n",
    "    def list_folders(given_path):\n",
    "        user_list = []\n",
    "        for path in os.listdir(given_path):\n",
    "            if not os.path.isfile(os.path.join(given_path, path)) and not path.startswith(\".\") and not path.startswith(\n",
    "                    \"archive\"):\n",
    "                user_list.append(path)\n",
    "        return user_list\n"
   ]
  },
  {
   "cell_type": "markdown",
   "metadata": {},
   "source": [
    "we need at some point to return a list of subdirectories, each will be passed through the same function (du)"
   ]
  },
  {
   "cell_type": "code",
   "execution_count": 40,
   "metadata": {
    "collapsed": true
   },
   "outputs": [],
   "source": [
    "    def notify(self):\n",
    "        global cap_reached\n",
    "        self._log.info(\"Loading recipient emails...\")\n",
    "        list_of_recievers = self.load_recipients_emails(self.list)\n",
    "        paths = self.list_folders(self.path)\n",
    "        paths = [self.path + user for user in paths]\n",
    "        sizes = []\n",
    "        for size in paths:\n",
    "            try:\n",
    "                self._log.info(\"calculating disk usage for \" + size + \" ...\")\n",
    "                sizes.append(int(self.du(size)))\n",
    "            except Exception, e:\n",
    "                self._log.exception(e)\n",
    "                sizes.append(0)\n",
    "        # sizes = [int(du(size).split(' ')[0]) for size in paths]\n",
    "        # convert kilobytes to bytes\n",
    "        sizes = [int(element) * 1000 for element in sizes]\n",
    "        table = PrettyTable([\"Directory\", \"Size\"])\n",
    "        table.align[\"Directory\"] = \"l\"\n",
    "        table.align[\"Size\"] = \"r\"\n",
    "        table.padding_width = 5\n",
    "        table.border = False\n",
    "        for account, size_of_account in zip(paths, sizes):\n",
    "            if int(size_of_account) > int(self.threshold):\n",
    "                table.add_row(\n",
    "                    [\"*\" + os.path.basename(account) + \"*\", \"*\" + self.du_h(size_of_account) + \"*\"])\n",
    "                self.cap_reached = True\n",
    "            else:\n",
    "                table.add_row([os.path.basename(account), self.du_h(size_of_account)])\n",
    "        # notify Admins\n",
    "        table.add_row([\"TOTAL\", self.du_h(sum(sizes))])\n",
    "        table.add_row([\"Usage\", str(sum(sizes) / 70000000000000)])\n",
    "        self.notify_user(list_of_recievers, table, \"karey\")\n",
    "        if self.cap_reached:\n",
    "            self.notify_user(list_of_recievers, table, \"default_size_limit\")\n",
    "\n",
    "    def run(self):\n",
    "        self.notify()"
   ]
  },
  {
   "cell_type": "markdown",
   "metadata": {},
   "source": [
    "Finally we create the function that will bring all this protocol together :\n",
    "\n",
    "- Read the list of recievers\n",
    "- load the path we want to look into\n",
    "- for each subdirectory calculate the size of it and append it to a list\n",
    "- create a Table to be populated row by row\n",
    "- add subdirectories and their sizes\n",
    "- Calculate the total of sizes in subdirectories\n",
    "- If one of the subdirectories has a size higher than the threshold specified, trigger the email\n",
    "- Report the usage as a percentage\n"
   ]
  },
  {
   "cell_type": "code",
   "execution_count": 41,
   "metadata": {
    "collapsed": true
   },
   "outputs": [],
   "source": [
    "def arguments():\n",
    "    \"\"\"Defines the command line arguments for the script.\"\"\"\n",
    "    main_desc = \"\"\"Monitors changes in the size of dirs for a given path\"\"\"\n",
    "\n",
    "    parser = ArgumentParser(description=main_desc)\n",
    "    parser.add_argument(\"path\", default=os.path.expanduser('~'), nargs='?',\n",
    "                        help=\"The path to monitor. If none is given, takes the  home directory\")\n",
    "    parser.add_argument(\"list\", help=\"text file containing the list of persons to be notified, one per line\")\n",
    "    parser.add_argument(\"-s\", \"--notification_subject\", default=None, help=\"Email subject of the notification\")\n",
    "    parser.add_argument(\"-t\", \"--threshold\", default=2500000000000,\n",
    "                        help=\"The threshold that will trigger the notification\")\n",
    "    parser.add_argument(\"-v\", \"--version\", action=\"version\",\n",
    "                        version=\"%(prog)s {0}\".format(__version__),\n",
    "                        help=\"show program's version number and exit\")\n",
    "    return parser"
   ]
  },
  {
   "cell_type": "markdown",
   "metadata": {},
   "source": [
    "The program takes in account : the path to examine, the list of emails in a file, the subject of the alert, the thresold that will trigger the email (here by defailt 2.5T)"
   ]
  },
  {
   "cell_type": "code",
   "execution_count": 42,
   "metadata": {
    "collapsed": false
   },
   "outputs": [],
   "source": [
    "def main():\n",
    "\n",
    "    args = arguments().parse_args()\n",
    "    notifier = Notifier()\n",
    "    loggy = notifier.loggy\n",
    "    # Set parameters\n",
    "    loggy.info(\"Starting QuotaWatcher session...\")\n",
    "    loggy.info(\"Setting parameters ...\")\n",
    "    notifier.list = args.list\n",
    "    notifier.threshold = args.threshold\n",
    "    notifier.path = args.path\n",
    "\n",
    "    # Configure the app\n",
    "    try:\n",
    "        loggy.info(\"Loading environment variables ...\")\n",
    "        notifier.email_sender = os.environ[\"NOTIFIER_SENDER\"]\n",
    "        notifier.email_password = os.environ[\"NOTIFIER_PASSWD\"]\n",
    "        notifier.gmail_smtp = os.environ[\"NOTIFIER_SMTP\"]\n",
    "        notifier.gmail_smtp_port = os.environ[\"NOTIFIER_SMTP_PORT\"]\n",
    "        notifier.text_subtype = os.environ[\"NOTIFIER_SUBTYPE\"]\n",
    "        notifier.email_subject = args.notification_subject\n",
    "        notifier.cap_reached = False\n",
    "    except Exception, e:\n",
    "        loggy.exception(e)\n",
    "\n",
    "    notifier.run()\n",
    "    loggy.info(\"End of QuotaWatcher session\")\n",
    "\n"
   ]
  },
  {
   "cell_type": "markdown",
   "metadata": {},
   "source": [
    "Note that in the main we load some environment variable that you should specify in advance. This is up to the user to fill these out, It is always preferable to declare these as environment variable, most of the time these are confidential so we better not show them here, it is always safe to set environment variable for these"
   ]
  },
  {
   "cell_type": "markdown",
   "metadata": {},
   "source": [
    "# That's it\n",
    "\n",
    "this is an example of the LOG output.\n",
    "\n",
    "```\n",
    "2015-07-03 10:40:46,968 - quota_logger - INFO - Starting QuotaWatcher session...\n",
    "2015-07-03 10:40:46,969 - quota_logger - INFO - Setting parameters ...\n",
    "2015-07-03 10:40:46,969 - quota_logger - INFO - Loading environment variables ...\n",
    "2015-07-03 10:40:46,969 - quota_logger - INFO - Loading recipient emails...\n",
    "2015-07-03 10:40:47,011 - quota_logger - INFO - calculating disk usage for /genesis/extscratch/shahlab/amcpherson ..\n",
    ".\n",
    "2015-07-03 11:21:09,442 - quota_logger - INFO - calculating disk usage for /genesis/extscratch/shahlab/andrewjlroth\n",
    "...\n",
    "2015-07-03 15:31:41,500 - quota_logger - INFO - calculating disk usage for /genesis/extscratch/shahlab/asteif ...\n",
    "2015-07-03 15:40:34,268 - quota_logger - INFO - calculating disk usage for /genesis/extscratch/shahlab/clefebvre ...\n",
    "2015-07-03 15:42:47,483 - quota_logger - INFO - calculating disk usage for /genesis/extscratch/shahlab/dgrewal ...\n",
    "2015-07-03 16:01:30,588 - quota_logger - INFO - calculating disk usage for /genesis/extscratch/shahlab/fdorri ...\n",
    "2015-07-03 16:03:43,850 - quota_logger - INFO - calculating disk usage for /genesis/extscratch/shahlab/fong ...\n",
    "2015-07-03 16:16:13,781 - quota_logger - INFO - calculating disk usage for /genesis/extscratch/shahlab/gha ...\n",
    "2015-07-03 16:16:38,673 - quota_logger - INFO - calculating disk usage for /genesis/extscratch/shahlab/jding ...\n",
    "2015-07-03 16:16:50,820 - quota_logger - INFO - calculating disk usage for /genesis/extscratch/shahlab/cdesouza ...\n",
    "2015-07-03 16:16:52,585 - quota_logger - INFO - calculating disk usage for /genesis/extscratch/shahlab/jrosner ...\n",
    "2015-07-03 16:27:30,684 - quota_logger - INFO - calculating disk usage for /genesis/extscratch/shahlab/jtaghiyar ...\n",
    "2015-07-03 16:28:16,982 - quota_logger - INFO - calculating disk usage for /genesis/extscratch/shahlab/kareys ...\n",
    "2015-07-03 19:21:07,607 - quota_logger - INFO - calculating disk usage for /genesis/extscratch/shahlab/hfarahani ...\n",
    "2015-07-03 19:22:07,618 - quota_logger - INFO - calculating disk usage for /genesis/extscratch/shahlab/jzhou ...\n",
    "2015-07-03 19:38:28,147 - quota_logger - INFO - calculating disk usage for /genesis/extscratch/shahlab/pipelines ...\n",
    "2015-07-03 19:53:20,771 - quota_logger - INFO - calculating disk usage for /genesis/extscratch/shahlab/projects ...\n",
    "2015-07-03 20:52:45,001 - quota_logger - INFO - calculating disk usage for /genesis/extscratch/shahlab/raniba ...\n",
    "2015-07-03 20:59:50,543 - quota_logger - INFO - calculating disk usage for /genesis/extscratch/shahlab/tfunnell ...\n",
    "2015-07-03 21:00:47,216 - quota_logger - INFO - calculating disk usage for /genesis/extscratch/shahlab/ykwang ...\n",
    "2015-07-03 21:03:30,277 - quota_logger - INFO - calculating disk usage for /genesis/extscratch/shahlab/azhang ...\n",
    "2015-07-03 21:03:30,820 - quota_logger - INFO - calculating disk usage for /genesis/extscratch/shahlab/softwares ...\n",
    "2015-07-03 21:03:42,679 - quota_logger - INFO - calculating disk usage for /genesis/extscratch/shahlab/sjewell ...\n",
    "2015-07-03 21:03:51,711 - quota_logger - INFO - calculating disk usage for /genesis/extscratch/shahlab/kastonl ...\n",
    "2015-07-03 21:04:52,536 - quota_logger - INFO - calculating disk usage for /genesis/extscratch/shahlab/amazloomian .\n",
    "..\n",
    "2015-07-03 21:07:43,501 - quota_logger - INFO - End of QuotaWatcher session\n",
    "```\n",
    "\n",
    "And as of the email triggered, it will look like \n",
    "\n",
    "```\n",
    "** THIS IS AN ALERT MESSAGE : DISK USAGE SPIKE **\n",
    "\n",
    "This is a warning message about the disk usage relative to the Shahlab group at GSC\n",
    "\n",
    "We detected a spike > 2.5 T for some accounts and here is a list of the space usage per account reported today\n",
    "\n",
    "\n",
    "    Directory                   Size     \n",
    "    amcpherson               1.96 TB     \n",
    "    andrewjlroth           390.19 GB     \n",
    "    asteif                   2.05 TB     \n",
    "    clefebvre               16.07 GB     \n",
    "    dgrewal                  1.61 TB     \n",
    "    fdorri                 486.49 GB     \n",
    "    *fong*                 *9.67 TB*     \n",
    "    gha                      50.7 GB     \n",
    "    jding                  638.72 GB     \n",
    "    cdesouza                56.15 GB     \n",
    "    jrosner                  1.82 TB     \n",
    "    jtaghiyar              253.84 GB     \n",
    "    *kareys*              *11.26 TB*     \n",
    "    hfarahani                1.09 TB     \n",
    "    jzhou                    1.19 TB     \n",
    "    pipelines                 2.1 TB     \n",
    "    *projects*             *4.09 TB*     \n",
    "    raniba                   2.03 TB     \n",
    "    tfunnell                 1.02 TB     \n",
    "    ykwang                   1.71 TB     \n",
    "    azhang                  108.4 MB     \n",
    "    softwares               34.67 GB     \n",
    "    sjewell                 24.53 GB     \n",
    "    kastonl                118.51 GB     \n",
    "    amazloomian              1.71 TB     \n",
    "    TOTAL                   45.34 TB     \n",
    "    Usage                    71.218%     \n",
    "\n",
    "\n",
    "Please do the necessary to remove temporary files and take the time to clean up your working directories\n",
    "\n",
    "Thank you for your cooperation\n",
    "\n",
    "(am a cron job, don't reply to this message, if you have questions ask Ali)\n",
    "\n",
    "\n",
    "\n",
    "PS : This is a very close estimation, some directories may have strict permissions, for an accurate disk usage please make sure that you set your files permissions so that anyone can see them.\n",
    "```\n",
    "\n",
    "\n"
   ]
  },
  {
   "cell_type": "markdown",
   "metadata": {},
   "source": [
    "### The logger"
   ]
  },
  {
   "cell_type": "code",
   "execution_count": 43,
   "metadata": {
    "collapsed": true,
    "slideshow": {
     "slide_type": "notes"
    }
   },
   "outputs": [],
   "source": [
    "import logging\n",
    "import datetime\n",
    "\n",
    "def init_log():\n",
    "    current_time = datetime.datetime.now()\n",
    "    logger = logging.getLogger(__name__)\n",
    "    logger.setLevel(logging.INFO)\n",
    "    handler = logging.FileHandler(current_time.isoformat()+'_quotawatcher.log')\n",
    "    handler.setLevel(logging.INFO)\n",
    "    # create a logging format\n",
    "    formatter = logging.Formatter('%(asctime)s - %(name)s - %(levelname)s - %(message)s')\n",
    "    handler.setFormatter(formatter)\n",
    "    logger.addHandler(handler)\n",
    "    return logger"
   ]
  },
  {
   "cell_type": "markdown",
   "metadata": {},
   "source": [
    "### Before you start\n",
    "\n",
    "```\n",
    "export NOTIFIER_SENDER=\"your_email@gmail.com\"\n",
    "export NOTIFIER_PASSWD=\"passwordhere\"\n",
    "export NOTIFIER_SMTP=\"smtp.gmail.com\"\n",
    "export NOTIFIER_SMTP_PORT=587\n",
    "export NOTIFIER_SUBTYPE=\"plain\"\n",
    "export GNU_PARALLEL=\"/path/to/your/gnu/parallel\"\n",
    "```"
   ]
  },
  {
   "cell_type": "markdown",
   "metadata": {},
   "source": [
    "### How to run the program\n",
    "\n",
    "```\n",
    "python quotawatcher.py /genesis/extscratch/shahlab/ dev_list -s \"Hey Test\" -t 2500000000000\n",
    "```"
   ]
  }
 ],
 "metadata": {
  "kernelspec": {
   "display_name": "Python 2",
   "language": "python",
   "name": "python2"
  },
  "language_info": {
   "codemirror_mode": {
    "name": "ipython",
    "version": 2
   },
   "file_extension": ".py",
   "mimetype": "text/x-python",
   "name": "python",
   "nbconvert_exporter": "python",
   "pygments_lexer": "ipython2",
   "version": "2.7.6"
  }
 },
 "nbformat": 4,
 "nbformat_minor": 0
}
